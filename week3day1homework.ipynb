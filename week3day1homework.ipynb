{
 "cells": [
  {
   "cell_type": "markdown",
   "metadata": {},
   "source": [
    "# Map, Filter, Reduce, Lambda & Recursion"
   ]
  },
  {
   "cell_type": "markdown",
   "metadata": {},
   "source": [
    "## Tasks Today:\n",
    "\n",
    "1) <b>Lambda Functions</b> <br>\n",
    " &nbsp;&nbsp;&nbsp;&nbsp; a) Syntax <br>\n",
    " &nbsp;&nbsp;&nbsp;&nbsp; b) Saving to a Variable <br>\n",
    " &nbsp;&nbsp;&nbsp;&nbsp; c) Multiple Inputs <br>\n",
    " &nbsp;&nbsp;&nbsp;&nbsp; d) Passing a Lambda into a Function <br>\n",
    " &nbsp;&nbsp;&nbsp;&nbsp; e) Returning a Lambda from a Function <br>\n",
    " &nbsp;&nbsp;&nbsp;&nbsp; f) In-Class Exercise #1 <br>\n",
    "2) <b>Map</b> <br>\n",
    " &nbsp;&nbsp;&nbsp;&nbsp; a) Syntax <br>\n",
    " &nbsp;&nbsp;&nbsp;&nbsp; b) Using Lambda's with Map <br>\n",
    " &nbsp;&nbsp;&nbsp;&nbsp; c) In-Class Exercise #2 <br>\n",
    "3) <b>Filter</b> <br>\n",
    " &nbsp;&nbsp;&nbsp;&nbsp; a) Syntax <br>\n",
    " &nbsp;&nbsp;&nbsp;&nbsp; b) Using Lambda's with Filter <br>\n",
    " &nbsp;&nbsp;&nbsp;&nbsp; c) In-Class Exercise #3 <br>\n",
    "4) <b>Reduce</b> <br>\n",
    " &nbsp;&nbsp;&nbsp;&nbsp; a) Syntax <br>\n",
    " &nbsp;&nbsp;&nbsp;&nbsp; b) Using Lambda's with Reduce <br>\n",
    " &nbsp;&nbsp;&nbsp;&nbsp; c) In-Class Exercise #4 <br>\n",
    "5) <b>Recursion</b> <br>\n",
    " &nbsp;&nbsp;&nbsp;&nbsp; a) Implementing a Base <br>\n",
    " &nbsp;&nbsp;&nbsp;&nbsp; b) Writing a Factorial Function <br>\n",
    " &nbsp;&nbsp;&nbsp;&nbsp; c) In-Class Exercise #5 <br>\n",
    "6) <b>Generators & Iterators</b> <br>\n",
    " &nbsp;&nbsp;&nbsp;&nbsp; a) Yield Keyword <br>\n",
    " &nbsp;&nbsp;&nbsp;&nbsp; b) Inifinite Generator <br>\n",
    " &nbsp;&nbsp;&nbsp;&nbsp; c) In-Class Exercise #6 <br>\n",
    "7) <b>Exercises</b> <br>\n",
    " &nbsp;&nbsp;&nbsp;&nbsp; a) Exercise #1 - Filtering Empty Strings <br>\n",
    " &nbsp;&nbsp;&nbsp;&nbsp; b) Exercise #2 - Sorting with Last Name <br>\n",
    " &nbsp;&nbsp;&nbsp;&nbsp; c) Exercise #3 - Conversion to Farhenheit <br>\n",
    " &nbsp;&nbsp;&nbsp;&nbsp; d) Exercise #4 - Fibonacci Sequence <br>"
   ]
  },
  {
   "cell_type": "markdown",
   "metadata": {},
   "source": [
    "## Lambda Functions <br>\n",
    "<p>Lambda functions... or \"Anonymous Functions\" are referring to inline functions with no name. The keyword lambda denotes the no name function, and executes within a single line. Without saving it to a variable; however, it is not able to be used, unless passed in either as a paramater or within list comprehension.<br>Written as \"(keyword lambda) (one or more inputs) (colon) (function to be executed)\"</p>"
   ]
  },
  {
   "cell_type": "markdown",
   "metadata": {},
   "source": [
    "#### Syntax"
   ]
  },
  {
   "cell_type": "code",
   "execution_count": null,
   "metadata": {},
   "outputs": [],
   "source": [
    "#regular functions *utlizing \"def\" keyword for define aka stroing that to memory\n",
    "\n",
    "def my_function(param):\n",
    "    \n",
    "    #if that param was an integer\n",
    "    \n",
    "    return param + 2\n",
    "\n",
    "#using the print to see my output\n",
    "\n",
    "print(my_function(2))\n",
    "\n",
    "#printing a function without () just gives you the location in memory\n",
    "print(my_function)\n",
    "\n",
    "#utilizing \"lambda\" we can do the same thing\n",
    "\n",
    "        #def     #passing a param\n",
    "print((lambda param: param + 2)(2))"
   ]
  },
  {
   "cell_type": "markdown",
   "metadata": {},
   "source": [
    "#### Saving to a Variable"
   ]
  },
  {
   "cell_type": "code",
   "execution_count": null,
   "metadata": {},
   "outputs": [],
   "source": [
    "# w/ a lambda function we DONT need to store to memory, but we CAN \n",
    "\n",
    "my_lambda = lambda num1, num2: num1 + num2\n",
    "\n",
    "#same as \n",
    "\n",
    "# def my_lambda(num1, num2):\n",
    "#     return num1 + num2\n",
    "\n",
    "print(my_lambda)\n",
    "\n",
    "print(my_lambda(3,5))"
   ]
  },
  {
   "cell_type": "markdown",
   "metadata": {},
   "source": [
    "#### Multiple Inputs"
   ]
  },
  {
   "cell_type": "code",
   "execution_count": null,
   "metadata": {},
   "outputs": [],
   "source": [
    "print((lambda str1, str2: str1 + \" \" + str2)(\"Hello There\", \"Kym\"))\n",
    "\n",
    "print((lambda str1, str2: str1.strip() + \" \" + str2.strip())(\"Hello There \", \"Kym\"))"
   ]
  },
  {
   "cell_type": "markdown",
   "metadata": {},
   "source": [
    "#### Passing a Lambda into a Function"
   ]
  },
  {
   "cell_type": "code",
   "execution_count": null,
   "metadata": {},
   "outputs": [],
   "source": [
    "def do_an_operation(func, num):\n",
    "    \n",
    "    #doc string aka a little instruction manual on your function\n",
    "    #a more formal way of telling what your function is doing\n",
    "    \n",
    "    \"\"\"\n",
    "    func is expected to be a lambda function\n",
    "    num is expected to be an integer\n",
    "    the function do_an_operation takes in a function and performs it on num\n",
    "    \"\"\"\n",
    "    \n",
    "    return func(num)\n",
    "\n",
    "help(do_an_operation)\n",
    "\n",
    "#when i call the function im going to give it a lambda\n",
    "\n",
    "                            #1st argument  #2nd argument\n",
    "print(do_an_operation(lambda num: num * 2, 4))\n",
    "print(do_an_operation(lambda num: num // 2, 4))"
   ]
  },
  {
   "cell_type": "markdown",
   "metadata": {},
   "source": [
    "#### Returning a Lambda from a Function"
   ]
  },
  {
   "cell_type": "code",
   "execution_count": null,
   "metadata": {},
   "outputs": [],
   "source": [
    "# a function inside of a function\n",
    "\n",
    "def return_func():\n",
    "    \n",
    "    #function inside of a function (we will use these with decorators)\n",
    "    def multiply(num):\n",
    "        return num * 2\n",
    "    \n",
    "    return multiply \n",
    "\n",
    "#call upon outer function and store to a varialbe\n",
    "\n",
    "outer_func = return_func()\n",
    "print(outer_func)\n",
    "\n",
    "print(outer_func(4))"
   ]
  },
  {
   "cell_type": "code",
   "execution_count": null,
   "metadata": {},
   "outputs": [],
   "source": [
    "# having a lambda function inside of another function\n",
    "\n",
    "def return_lambda():\n",
    "    \n",
    "    return lambda num: num * 2\n",
    "\n",
    "\n",
    "outer_func2 = return_lambda()\n",
    "\n",
    "print(outer_func2)\n",
    "print(outer_func(4))"
   ]
  },
  {
   "cell_type": "markdown",
   "metadata": {},
   "source": [
    "#### If Statements within Lambdas"
   ]
  },
  {
   "cell_type": "code",
   "execution_count": null,
   "metadata": {},
   "outputs": [],
   "source": [
    "#list comprehension\n",
    "\n",
    "#transform            #iteration         #conditional. (TIC)\n",
    "\n",
    "my_conditional_func = lambda num: num * 2 if num < 10 else num\n",
    "\n",
    "print(my_conditional_func(4))\n",
    "print(my_conditional_func(8))\n",
    "print(my_conditional_func(10))"
   ]
  },
  {
   "cell_type": "code",
   "execution_count": null,
   "metadata": {},
   "outputs": [],
   "source": [
    "#if conditional with multiple conditionals (same format for list comprehension & lambda)\n",
    "\n",
    "my_multi_func = lambda num: num * 2 if num < 10 else (num * 3 if num < 20 else num)\n",
    "\n",
    "print(my_multi_func(9))\n",
    "print(my_multi_func(19))\n",
    "print(my_multi_func(29))"
   ]
  },
  {
   "cell_type": "markdown",
   "metadata": {},
   "source": [
    "#### In-Class Exercise #1 <br>\n",
    "<p>Write an anonymous function that cubes the arguments passed in and assign the anonymous function to a variable 'f'.</p>"
   ]
  },
  {
   "cell_type": "code",
   "execution_count": 1,
   "metadata": {},
   "outputs": [
    {
     "name": "stdout",
     "output_type": "stream",
     "text": [
      "512\n",
      "400\n",
      "125\n"
     ]
    }
   ],
   "source": [
    "# # a function inside of a function\n",
    "\n",
    "# def return_func():\n",
    "    \n",
    "#     #function inside of a function (we will use these with decorators)\n",
    "#     def multiply(num):\n",
    "#         return num * 2\n",
    "    \n",
    "#     return multiply \n",
    "\n",
    "# #call upon outer function and store to a varialbe\n",
    "\n",
    "# outer_func = return_func()\n",
    "# print(outer_func)\n",
    "\n",
    "# print(outer_func(4))\n",
    "\n",
    " \n",
    "\n",
    "my_new_func = lambda num: num ** 3 if num < 10 else (num ** 2 if num > 10 else num)\n",
    "\n",
    "print(my_new_func(8))\n",
    "print(my_new_func(20))\n",
    "print(my_new_func(5))"
   ]
  },
  {
   "cell_type": "markdown",
   "metadata": {},
   "source": [
    "## Map <br>\n",
    "<p>The map function allows you to iterate over an entire list while running a function on each item of the list. This is why the map function works well with lambda's, because it simplifies things and you write less lines of code.<br>The syntax for a map function is \"map(function to be used, list to be used)\"<br>However, you must be careful, as the map function returns a map object, not a list. To turn it into a list we use the list() type conversion.</p>"
   ]
  },
  {
   "cell_type": "markdown",
   "metadata": {},
   "source": [
    "#### Syntax"
   ]
  },
  {
   "cell_type": "code",
   "execution_count": null,
   "metadata": {},
   "outputs": [],
   "source": [
    "# map takes in two arguments\n",
    "# 1st being the function, 2nd is the iterable (lists, sets, tuples, strings, dictionaries)\n",
    "\n",
    "# def a funsion we want to run over our iterable\n",
    "def squared(num1):\n",
    "    \n",
    "    return num1 ** 2\n",
    "\n",
    "# defining itereable:\n",
    "nums = [5, 7, 3, 11]\n",
    "\n",
    "# I want to square every # in my list\n",
    "\n",
    "\n",
    "#               #1st arg: function   #2nd arg: iterable\n",
    "squared_nums = list(map(squared, nums))\n",
    "print(squared_nums)"
   ]
  },
  {
   "cell_type": "code",
   "execution_count": null,
   "metadata": {},
   "outputs": [],
   "source": [
    "# long way w/o using map()\n",
    "\n",
    "squared_nums2 = []\n",
    "\n",
    "for num in nums:\n",
    "    squared_nums2.append(squared(num))\n",
    "    \n",
    "print(squared_nums2)"
   ]
  },
  {
   "cell_type": "code",
   "execution_count": null,
   "metadata": {},
   "outputs": [],
   "source": [
    "# passing in 2 iterables vs 1\n",
    "\n",
    "def more_squared(num1, num2):\n",
    "    \n",
    "    return num1 ** 2, num2 ** 2\n",
    "\n",
    "# 1st define\n",
    "nums = [5, 7, 3, 11]\n",
    "more_nums = [9, 22, 8, 13]\n",
    "\n",
    "squared_nums3 = list(map(more_squared, nums, more_nums))\n",
    "print(squared_nums3)\n",
    "\n",
    "\n",
    "\n",
    "#squared_num3 is a list of tuples\n",
    "# a tuple is an immutable iterable aka it cannot be changed but we can iterate over it\n",
    "\n",
    "# we can use the zip() builtin function to deconstruct a list of tuples into multiple lines\n",
    "square1, square2, = zip(*squared_nums3)\n",
    "\n",
    "print(list(square1))\n",
    "print(list(square2))"
   ]
  },
  {
   "cell_type": "markdown",
   "metadata": {},
   "source": [
    "#### Using Lambda's with Map"
   ]
  },
  {
   "cell_type": "code",
   "execution_count": null,
   "metadata": {},
   "outputs": [],
   "source": [
    "# do the same thing but w/ lambda function\n",
    "\n",
    "squared_lambda_nums = list(map(lambda x,y: (x**2, y**2), nums, more_nums))\n",
    "print(squared_lambda_nums)"
   ]
  },
  {
   "cell_type": "markdown",
   "metadata": {},
   "source": [
    "#### In-Class Exercise #2 <br>\n",
    "<p>Use the map function to double each number and minus it by one in the list by using a lambda function</p>"
   ]
  },
  {
   "cell_type": "code",
   "execution_count": null,
   "metadata": {},
   "outputs": [],
   "source": [
    "# def these_nums(num1)\n",
    "#     return \n",
    "\n",
    "nums = [4, 8, 12, 40]\n",
    "\n",
    "our_nums = list(map(lambda x: (x * 2 - 1), nums))\n",
    "\n",
    "print(our_nums)\n",
    "\n",
    "nums = [4, 8, 12, 40]\n",
    "\n",
    "def my_func(chicago):\n",
    "    \n",
    "    return chicago * 2 - 1 \n",
    "\n",
    "my_lambda_var = lambda chicago: (chicago * 2 - 1)\n",
    "\n",
    "our_nums = list(map(lambda chicago: (chicago * 2 - 1), nums))\n",
    "\n",
    "print(our_nums)"
   ]
  },
  {
   "cell_type": "markdown",
   "metadata": {},
   "source": [
    "## Filter() <br>\n",
    "<p>Filter's are similar to the map function, where you're able to pass a function argument and a list argument and filter out something from the list based on the conditions passed. Similar to the map function, it returns a filter object, so you need to type convert it to a list()</p>"
   ]
  },
  {
   "cell_type": "markdown",
   "metadata": {},
   "source": [
    "#### Syntax"
   ]
  },
  {
   "cell_type": "code",
   "execution_count": null,
   "metadata": {},
   "outputs": [],
   "source": [
    "# filter allows us to create rules to then filter out data from our iterables\n",
    "\n",
    "# regular function\n",
    "\n",
    "def even_digits(num1):\n",
    "    \n",
    "    if len(str(num1)) % 2 == 0:\n",
    "        return True\n",
    "    \n",
    "    else:\n",
    "        return False\n",
    "\n",
    "# one liner boolean return statement\n",
    "# return if len(str(num1)) % 2 == 0\n",
    "\n",
    "\n",
    "# filter() like map() take in 2+ arguments\n",
    "# 1st is the function\n",
    "# 2nd is the iterable\n",
    "\n",
    "more_nums = [9, 22, 8, 13]\n",
    "\n",
    "my_filtered_list = list(filter(even_digits, more_nums))\n",
    "print(my_filtered_list)"
   ]
  },
  {
   "cell_type": "code",
   "execution_count": 3,
   "metadata": {},
   "outputs": [
    {
     "name": "stdout",
     "output_type": "stream",
     "text": [
      "['Chicago', 'Savana', 'Boston', 'Houston', 'Nashville']\n"
     ]
    }
   ],
   "source": [
    "# filtering through a list of names\n",
    "\n",
    "city_list = ['Chicago', 'Cincinatti','New Orleans','Savana','Boston','Houston','Nashville']\n",
    "\n",
    "#our rule is cities that are longer than 10 letters\n",
    "\n",
    "def ten_letters(city):\n",
    "    return len(city) < 10\n",
    "\n",
    "ten_letter_cities = list(filter(ten_letters, city_list))\n",
    "\n",
    "print(ten_letter_cities)"
   ]
  },
  {
   "cell_type": "markdown",
   "metadata": {},
   "source": [
    "#### Using Lambda's with Filter()"
   ]
  },
  {
   "cell_type": "code",
   "execution_count": null,
   "metadata": {},
   "outputs": [],
   "source": [
    "print(list(filter(lambda city: True if len(city) >= 10 else False, city_list)))"
   ]
  },
  {
   "cell_type": "markdown",
   "metadata": {},
   "source": [
    "#### In-Class Exercise #3 <br>\n",
    "<p>Filter out all the numbers that are below the mean of the list.<br><b>Hint: Import the 'statistics' module</b></p>"
   ]
  },
  {
   "cell_type": "code",
   "execution_count": null,
   "metadata": {},
   "outputs": [],
   "source": [
    "# import * from statistics\n",
    "\n",
    "# from statistics import mean \n",
    "\n",
    "more_nums = [9, 22, 8, 13]\n",
    "\n",
    "# print(list(filter(lambda city: True if len(city) >= 10 else False, city_list)))\n",
    "\n",
    "# print(mean(more_nums))\n",
    "\n",
    "print(list(filter(lambda nums: True if nums < 13 else False, more_nums)))\n",
    "\n",
    "print(list(filter(lambda nums: True if nums < (mean(more_nums)) else False, more_nums)))"
   ]
  },
  {
   "cell_type": "code",
   "execution_count": null,
   "metadata": {},
   "outputs": [],
   "source": [
    "\n",
    "from statistics import mean\n",
    "\n",
    "filter_mean = mean([12, 18, 14, 16])\n",
    "\n",
    "#this lambda function returns a true or false\n",
    "print(list(filter(lambda num: num >= filter_mean, more_nums)))\n",
    "\n",
    "#lambda num is the same as below\n",
    "def mean_func(num):\n",
    "    \n",
    "    if num >= filter_mean:\n",
    "        return True\n",
    "    else:\n",
    "        return False\n",
    "\n",
    "\n",
    "#do this longhanded without filter\n",
    "\n",
    "filtered_list = []\n",
    "\n",
    "#for loop without calling upon a function\n",
    "for num in more_nums:\n",
    "    if num >= filter_mean:\n",
    "        filtered_list.append(num)\n",
    "\n",
    "filtered_list2 = []\n",
    "        \n",
    "    \n",
    "#print(list(filter(lambda num: num >= filter_mean, more_nums)))\n",
    "#for loop with calling a function\n",
    "\n",
    "for num in more_nums:\n",
    "    if mean_func(num):\n",
    "        filtered_list2.append(num)\n",
    "        \n",
    "print(filtered_list)\n",
    "print(filtered_list2)"
   ]
  },
  {
   "cell_type": "markdown",
   "metadata": {},
   "source": [
    "## Reduce() <br>\n",
    "<p>Be very careful when using this function, as of Python 3 it's been moved to the 'functools' library and no longer is a built-in function.<br>The creator of Python himself, says to just use a for loop instead.</p>"
   ]
  },
  {
   "cell_type": "markdown",
   "metadata": {},
   "source": [
    "#### Syntax"
   ]
  },
  {
   "cell_type": "code",
   "execution_count": null,
   "metadata": {},
   "outputs": [],
   "source": [
    "#sum() essentially reducing our data from an iterable down to 1 number.\n",
    "\n",
    "from functools import reduce\n",
    "\n",
    "more_nums = [9, 22, 8, 13]\n",
    "\n",
    "\n",
    "#I want to * all the nums in more_nums together\n",
    "\n",
    "my_sum = 1\n",
    "\n",
    "for num in more_nums:\n",
    "    my_sum *= num\n",
    "\n",
    "print(my_sum)"
   ]
  },
  {
   "cell_type": "code",
   "execution_count": null,
   "metadata": {},
   "outputs": [],
   "source": [
    "# how could we do the above w/ the reduce()\n",
    "\n",
    "def multiple(num1, num2):\n",
    "    \n",
    "    return num1 * num2\n",
    "\n",
    "#just like map() & filter() the reduce takes in 2+. arguments\n",
    "#1st is function\n",
    "#2nd is iterable\n",
    "\n",
    "print(reduce(multiple, more_nums))"
   ]
  },
  {
   "cell_type": "markdown",
   "metadata": {},
   "source": [
    "#### Using Lambda's with Reduce()"
   ]
  },
  {
   "cell_type": "code",
   "execution_count": null,
   "metadata": {},
   "outputs": [],
   "source": [
    "print(reduce(lambda num1, num2: num1 * num2, more_nums))"
   ]
  },
  {
   "cell_type": "markdown",
   "metadata": {},
   "source": [
    "#### In-Class Exercise #4 <br>\n",
    "<p>Use the reduce function to multiply the numbers in the list below together with a lambda function.</p>"
   ]
  },
  {
   "cell_type": "code",
   "execution_count": null,
   "metadata": {},
   "outputs": [],
   "source": []
  },
  {
   "cell_type": "markdown",
   "metadata": {},
   "source": [
    "## Recursion <br>\n",
    "<p>Recursion means that a function is calling itself, so it contanstly executes until a base case is reached. It will then push the returning values back up the chain until the function is complete. A prime example of recursion is computing factorials... such that 5! (factorial) is 5*4*3*2*1 which equals 120.</p>"
   ]
  },
  {
   "cell_type": "markdown",
   "metadata": {},
   "source": [
    "#### Implementing a Base Case"
   ]
  },
  {
   "cell_type": "code",
   "execution_count": null,
   "metadata": {},
   "outputs": [],
   "source": []
  },
  {
   "cell_type": "markdown",
   "metadata": {},
   "source": [
    "#### Writing a Factorial Function"
   ]
  },
  {
   "cell_type": "code",
   "execution_count": null,
   "metadata": {},
   "outputs": [],
   "source": []
  },
  {
   "cell_type": "markdown",
   "metadata": {},
   "source": [
    "#### In-Class Exercise #5 <br>\n",
    "<p>Write a recursive function that subtracts all numbers to the argument given.</p>"
   ]
  },
  {
   "cell_type": "code",
   "execution_count": null,
   "metadata": {},
   "outputs": [],
   "source": []
  },
  {
   "cell_type": "markdown",
   "metadata": {},
   "source": [
    "## Generators <br>\n",
    "<p>Generators are a type of iterable, like lists or tuples. They do not allow indexing, but they can still be iterated through with for loops. They are created using functions and the yield statement.</p>"
   ]
  },
  {
   "cell_type": "markdown",
   "metadata": {},
   "source": [
    "#### Yield Keyword <br>\n",
    "<p>The yield keyword denotes a generator, it doesn't return so it won't leave the function and reset all variables in the function scope, instead it yields the number back to the caller.</p>"
   ]
  },
  {
   "cell_type": "code",
   "execution_count": 19,
   "metadata": {
    "scrolled": true
   },
   "outputs": [
    {
     "ename": "IndentationError",
     "evalue": "unexpected indent (3230822402.py, line 14)",
     "output_type": "error",
     "traceback": [
      "\u001b[0;36m  Cell \u001b[0;32mIn[19], line 14\u001b[0;36m\u001b[0m\n\u001b[0;31m    start += 1   #keyword arg\u001b[0m\n\u001b[0m    ^\u001b[0m\n\u001b[0;31mIndentationError\u001b[0m\u001b[0;31m:\u001b[0m unexpected indent\n"
     ]
    }
   ],
   "source": [
    "#these look similar to funcitons, but use \"yield\" not \"return\" keyword\n",
    "#yield returns bits of the data in small chuncks vs all at once\n",
    "#helps with processing the data & storing it\n",
    "\n",
    "#define a function that emulates the range()\n",
    "#range() takes in 3 arguments ,start, stop, step & it iterates through an iterable (list, tuple, etc)\n",
    "\n",
    "                        #default parameter\n",
    "def my_range(start, stop, step=1):\n",
    "    \n",
    "    while start < stop:\n",
    "        yield start #when we return we end the function, a yield allows us to return something w/o shutting down\n",
    "       \n",
    "              start += 1   #keyword arg\n",
    "for i in my_range(start=0, stop=10):\n",
    "    print(i)"
   ]
  },
  {
   "cell_type": "markdown",
   "metadata": {},
   "source": [
    "#### next() keyword\n",
    "<p>Returns next element from the list, if not present prints the default value. If default value is not present, raises the StopIteration error.</p>"
   ]
  },
  {
   "cell_type": "code",
   "execution_count": null,
   "metadata": {},
   "outputs": [],
   "source": [
    "#see below"
   ]
  },
  {
   "cell_type": "markdown",
   "metadata": {},
   "source": [
    "#### Creating a Generator Object\n",
    "<p>The generator object will store an iterable on which we can call the next() method.</p>"
   ]
  },
  {
   "cell_type": "code",
   "execution_count": null,
   "metadata": {},
   "outputs": [],
   "source": [
    "# my_generator_object = my_range(0, 10, 2)"
   ]
  },
  {
   "cell_type": "code",
   "execution_count": 18,
   "metadata": {},
   "outputs": [
    {
     "ename": "NameError",
     "evalue": "name 'my_range' is not defined",
     "output_type": "error",
     "traceback": [
      "\u001b[0;31m---------------------------------------------------------------------------\u001b[0m",
      "\u001b[0;31mNameError\u001b[0m                                 Traceback (most recent call last)",
      "Cell \u001b[0;32mIn[18], line 2\u001b[0m\n\u001b[1;32m      1\u001b[0m \u001b[38;5;66;03m#we can use the next() function to iterate through our generator object & bring back a new bit of data each time\u001b[39;00m\n\u001b[0;32m----> 2\u001b[0m my_generator_object \u001b[38;5;241m=\u001b[39m my_range(\u001b[38;5;241m0\u001b[39m, \u001b[38;5;241m10\u001b[39m, \u001b[38;5;241m2\u001b[39m)\n\u001b[1;32m      4\u001b[0m \u001b[38;5;28mnext\u001b[39m(my_generator_object)\n",
      "\u001b[0;31mNameError\u001b[0m: name 'my_range' is not defined"
     ]
    }
   ],
   "source": [
    "#we can use the next() function to iterate through our generator object & bring back a new bit of data each time\n",
    "my_generator_object = my_range(0, 10, 2)\n",
    "\n",
    "next(my_generator_object)"
   ]
  },
  {
   "cell_type": "markdown",
   "metadata": {},
   "source": [
    "<p>Use try and except to print graceful message instead of the StopIteration error:"
   ]
  },
  {
   "cell_type": "code",
   "execution_count": 2,
   "metadata": {},
   "outputs": [
    {
     "name": "stdout",
     "output_type": "stream",
     "text": [
      "No more numbers in list\n"
     ]
    }
   ],
   "source": [
    "try:\n",
    "    print(next(my_generator_object))\n",
    "except:\n",
    "    print(\"No more numbers in list\")\n",
    "    \n",
    "# my_generator_object = my_range(0, 10, 2)    "
   ]
  },
  {
   "cell_type": "code",
   "execution_count": null,
   "metadata": {},
   "outputs": [],
   "source": []
  },
  {
   "cell_type": "code",
   "execution_count": null,
   "metadata": {},
   "outputs": [],
   "source": []
  },
  {
   "cell_type": "markdown",
   "metadata": {},
   "source": [
    "#### In-Class Exercise #6 <br>\n",
    "<p>Create a generator that takes a number argument and yields that number squared, then prints each number squared until zero is reached.</p>"
   ]
  },
  {
   "cell_type": "code",
   "execution_count": 18,
   "metadata": {},
   "outputs": [
    {
     "ename": "SyntaxError",
     "evalue": "invalid syntax (2384838128.py, line 2)",
     "output_type": "error",
     "traceback": [
      "\u001b[0;36m  Cell \u001b[0;32mIn[18], line 2\u001b[0;36m\u001b[0m\n\u001b[0;31m    def num_squared(10, 0):\u001b[0m\n\u001b[0m                    ^\u001b[0m\n\u001b[0;31mSyntaxError\u001b[0m\u001b[0;31m:\u001b[0m invalid syntax\n"
     ]
    }
   ],
   "source": [
    "                        #default parameter\n",
    "# def num_squared(10, 0):\n",
    "    \n",
    "#     while 10 == 0:\n",
    "#         yield start\n",
    "#         start += 2\n",
    "\n",
    "# for i in num_squared(start=10, stop=0):\n",
    "#     print(i)\n",
    "\n"
   ]
  },
  {
   "cell_type": "markdown",
   "metadata": {},
   "source": [
    "# Exercises"
   ]
  },
  {
   "cell_type": "markdown",
   "metadata": {},
   "source": [
    "### Exercise #1 <br>\n",
    "<p>Filter out all of the empty strings from the list below</p>\n",
    "\n",
    "`Output: ['Argentina', 'San Diego', 'Boston', 'New York']`"
   ]
  },
  {
   "cell_type": "code",
   "execution_count": 20,
   "metadata": {},
   "outputs": [
    {
     "ename": "AttributeError",
     "evalue": "'list' object has no attribute 'strip'",
     "output_type": "error",
     "traceback": [
      "\u001b[0;31m---------------------------------------------------------------------------\u001b[0m",
      "\u001b[0;31mAttributeError\u001b[0m                            Traceback (most recent call last)",
      "Cell \u001b[0;32mIn[20], line 4\u001b[0m\n\u001b[1;32m      1\u001b[0m places \u001b[38;5;241m=\u001b[39m [\u001b[38;5;124m\"\u001b[39m\u001b[38;5;124m \u001b[39m\u001b[38;5;124m\"\u001b[39m,\u001b[38;5;124m\"\u001b[39m\u001b[38;5;124mArgentina\u001b[39m\u001b[38;5;124m\"\u001b[39m, \u001b[38;5;124m\"\u001b[39m\u001b[38;5;124m \u001b[39m\u001b[38;5;124m\"\u001b[39m, \u001b[38;5;124m\"\u001b[39m\u001b[38;5;124mSan Diego\u001b[39m\u001b[38;5;124m\"\u001b[39m,\u001b[38;5;124m\"\u001b[39m\u001b[38;5;124m\"\u001b[39m,\u001b[38;5;124m\"\u001b[39m\u001b[38;5;124m  \u001b[39m\u001b[38;5;124m\"\u001b[39m,\u001b[38;5;124m\"\u001b[39m\u001b[38;5;124m\"\u001b[39m,\u001b[38;5;124m\"\u001b[39m\u001b[38;5;124mBoston\u001b[39m\u001b[38;5;124m\"\u001b[39m,\u001b[38;5;124m\"\u001b[39m\u001b[38;5;124mNew York\u001b[39m\u001b[38;5;124m\"\u001b[39m]\n\u001b[1;32m      3\u001b[0m \u001b[38;5;66;03m# I need to strip the \u001b[39;00m\n\u001b[0;32m----> 4\u001b[0m x \u001b[38;5;241m=\u001b[39m places\u001b[38;5;241m.\u001b[39mstrip()\n\u001b[1;32m      6\u001b[0m \u001b[38;5;28mprint\u001b[39m(x)\n\u001b[1;32m      8\u001b[0m \u001b[38;5;28;01mdef\u001b[39;00m \u001b[38;5;21mnot_empty\u001b[39m(city_names):\n",
      "\u001b[0;31mAttributeError\u001b[0m: 'list' object has no attribute 'strip'"
     ]
    }
   ],
   "source": [
    "places = [\" \",\"Argentina\", \" \", \"San Diego\",\"\",\"  \",\"\",\"Boston\",\"New York\"]\n",
    "\n",
    "# I need to strip the whitespace. not sure where in the code to place that. \n",
    "# x = places.strip()\n",
    "\n",
    "# print(x)\n",
    "\n",
    "def not_empty(city_names):\n",
    "    return len(city_names) > 1\n",
    "\n",
    "real_places = list(filter(not_empty, places))\n",
    "\n",
    "print(real_places)\n",
    "\n",
    "print(list(filter(lambda city_names: True if len(city_names) >1 else False, places)))\n",
    "\n"
   ]
  },
  {
   "cell_type": "markdown",
   "metadata": {},
   "source": [
    "### Exercise #2 <br>\n",
    "<p>Write an anonymous function that sorts this list by the last name...<br><b>Hint: Use the \".sort()\" method and access the key\"</b></p>\n",
    "\n",
    "`Output: ['Victor aNisimov', 'Gary A.J. Bernstein', 'Joel Carter', 'Andrew P. Garfield', 'David hassELHOFF']`"
   ]
  },
  {
   "cell_type": "code",
   "execution_count": 14,
   "metadata": {},
   "outputs": [
    {
     "name": "stdout",
     "output_type": "stream",
     "text": [
      "['Andrew P. Garfield', 'David hassELHOFF', 'Gary A.J. Bernstein', 'Joel Carter', 'Victor aNisimov']\n"
     ]
    }
   ],
   "source": [
    "author = [\"Joel Carter\", \"Victor aNisimov\", \"Andrew P. Garfield\",\"David hassELHOFF\",\"Gary A.J. Bernstein\"]\n",
    "\n",
    "#I sorted the list, but it is going in reverse. I read that bc the strings\n",
    "#dont all have a capital letter something like this can happen?\n",
    "#moving on, will attempt again\n",
    "\n",
    "sorted_author = sorted(author)\n",
    "\n",
    "print(sorted_author)\n",
    "\n",
    "# print(list(sort(lambda author: True if )))"
   ]
  },
  {
   "cell_type": "markdown",
   "metadata": {},
   "source": [
    "### Exercise #3 <br>\n",
    "<p>Convert the list below from Celsius to Farhenheit, using the map function with a lambda...</p>\n",
    "\n",
    "`Output: [('Nashua', 89.6), ('Boston', 53.6), ('Los Angelos', 111.2), ('Miami', 84.2)]\n",
    "`"
   ]
  },
  {
   "cell_type": "code",
   "execution_count": 17,
   "metadata": {},
   "outputs": [
    {
     "ename": "TypeError",
     "evalue": "'tuple' object is not callable",
     "output_type": "error",
     "traceback": [
      "\u001b[0;31m---------------------------------------------------------------------------\u001b[0m",
      "\u001b[0;31mTypeError\u001b[0m                                 Traceback (most recent call last)",
      "Cell \u001b[0;32mIn[17], line 9\u001b[0m\n\u001b[1;32m      5\u001b[0m     \u001b[38;5;28;01mreturn\u001b[39;00m farhenheit (\u001b[38;5;241m9\u001b[39m\u001b[38;5;241m/\u001b[39m\u001b[38;5;241m5\u001b[39m)\u001b[38;5;241m*\u001b[39mC \u001b[38;5;241m+\u001b[39m \u001b[38;5;241m32\u001b[39m\n\u001b[1;32m      7\u001b[0m places \u001b[38;5;241m=\u001b[39m [(\u001b[38;5;124m'\u001b[39m\u001b[38;5;124mNashua\u001b[39m\u001b[38;5;124m'\u001b[39m,\u001b[38;5;241m32\u001b[39m),(\u001b[38;5;124m\"\u001b[39m\u001b[38;5;124mBoston\u001b[39m\u001b[38;5;124m\"\u001b[39m,\u001b[38;5;241m12\u001b[39m),(\u001b[38;5;124m\"\u001b[39m\u001b[38;5;124mLos Angelos\u001b[39m\u001b[38;5;124m\"\u001b[39m,\u001b[38;5;241m44\u001b[39m),(\u001b[38;5;124m\"\u001b[39m\u001b[38;5;124mMiami\u001b[39m\u001b[38;5;124m\"\u001b[39m,\u001b[38;5;241m29\u001b[39m)]\n\u001b[0;32m----> 9\u001b[0m converted_cities \u001b[38;5;241m=\u001b[39m \u001b[38;5;28mlist\u001b[39m(\u001b[38;5;28mmap\u001b[39m(convert, places))\n\u001b[1;32m     10\u001b[0m \u001b[38;5;28mprint\u001b[39m(converted_cities)\n",
      "Cell \u001b[0;32mIn[17], line 5\u001b[0m, in \u001b[0;36mconvert\u001b[0;34m(farhenheit)\u001b[0m\n\u001b[1;32m      4\u001b[0m \u001b[38;5;28;01mdef\u001b[39;00m \u001b[38;5;21mconvert\u001b[39m(farhenheit):\n\u001b[0;32m----> 5\u001b[0m     \u001b[38;5;28;01mreturn\u001b[39;00m farhenheit (\u001b[38;5;241m9\u001b[39m\u001b[38;5;241m/\u001b[39m\u001b[38;5;241m5\u001b[39m)\u001b[38;5;241m*\u001b[39mC \u001b[38;5;241m+\u001b[39m \u001b[38;5;241m32\u001b[39m\n",
      "\u001b[0;31mTypeError\u001b[0m: 'tuple' object is not callable"
     ]
    }
   ],
   "source": [
    "# F = (9/5)*C + 32\n",
    "places = [('Nashua',32),(\"Boston\",12),(\"Los Angelos\",44),(\"Miami\",29)]\n",
    "\n",
    "def convert(farhenheit):\n",
    "    return farhenheit (9/5)*C + 32\n",
    "\n",
    "places = [('Nashua',32),(\"Boston\",12),(\"Los Angelos\",44),(\"Miami\",29)]\n",
    "\n",
    "converted_cities = list(map(convert, places))\n",
    "print(converted_cities)\n",
    "\n"
   ]
  },
  {
   "cell_type": "markdown",
   "metadata": {},
   "source": [
    "### Exercise #4 <br>\n",
    "<p>Create a generator function that individually returns each movie genre back from the list</p>\n",
    "\n",
    "\n"
   ]
  },
  {
   "cell_type": "code",
   "execution_count": null,
   "metadata": {
    "scrolled": true
   },
   "outputs": [],
   "source": [
    "genres = [\"adventure\", \"drama\", \"horror\", \"comedy\", \"action\", \"romance\"]\n"
   ]
  },
  {
   "cell_type": "code",
   "execution_count": null,
   "metadata": {},
   "outputs": [],
   "source": []
  },
  {
   "cell_type": "code",
   "execution_count": null,
   "metadata": {},
   "outputs": [],
   "source": []
  }
 ],
 "metadata": {
  "kernelspec": {
   "display_name": "Python 3 (ipykernel)",
   "language": "python",
   "name": "python3"
  },
  "language_info": {
   "codemirror_mode": {
    "name": "ipython",
    "version": 3
   },
   "file_extension": ".py",
   "mimetype": "text/x-python",
   "name": "python",
   "nbconvert_exporter": "python",
   "pygments_lexer": "ipython3",
   "version": "3.11.4"
  }
 },
 "nbformat": 4,
 "nbformat_minor": 2
}
